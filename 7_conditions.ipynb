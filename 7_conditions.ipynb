{
 "cells": [
  {
   "cell_type": "markdown",
   "id": "be58b973",
   "metadata": {},
   "source": [
    "# Introduction to Conditions\n",
    "Conditions in Python allow you to execute code blocks based on whether certain criteria or expressions evaluate to True or False. These are fundamental to controlling the flow of a program.\n",
    "\n",
    "### The if Statement\n",
    "The if statement is the most basic form of a conditional. It executes a block of code only if the given condition is True.\n",
    "\n",
    "### The if-else Statement\n",
    "The if-else statement lets you execute one block of code if the condition is True, and another block if the condition is False.\n",
    "\n",
    "### The if-elif-else Statement\n",
    "The if-elif-else statement allows you to check multiple conditions. If the first condition is False, the elif condition is checked. If all conditions are False, the else block is executed.\n",
    "\n",
    "### Nested if Statements\n",
    "You can nest if statements inside each other to create more complex conditions.\n",
    "\n",
    "### Logical Operators in Conditions\n",
    "You can combine multiple conditions using logical operators like and, or, and not.\n",
    "\n",
    "- and: True if both conditions are True.\n",
    "- or: True if at least one condition is True.\n",
    "- not: Inverts the condition."
   ]
  },
  {
   "cell_type": "code",
   "execution_count": 2,
   "id": "12c8595c",
   "metadata": {},
   "outputs": [],
   "source": [
    "temperature = 19\n",
    "if temperature > 20:\n",
    "    print(\"It's a warm day\")"
   ]
  },
  {
   "cell_type": "code",
   "execution_count": 3,
   "id": "a8d6cc90",
   "metadata": {},
   "outputs": [
    {
     "name": "stdout",
     "output_type": "stream",
     "text": [
      "Its's a cool day\n"
     ]
    }
   ],
   "source": [
    "temperature = 15\n",
    "\n",
    "if temperature > 20:\n",
    "    print(\"It's a warm day\")\n",
    "else:\n",
    "    print(\"Its's a cool day\")"
   ]
  },
  {
   "cell_type": "code",
   "execution_count": 7,
   "id": "0c1e371a",
   "metadata": {},
   "outputs": [
    {
     "name": "stdout",
     "output_type": "stream",
     "text": [
      "It's a warm day\n"
     ]
    }
   ],
   "source": [
    "temperature = 21\n",
    "if temperature > 30:\n",
    "    print(\"Its' a hot day\")\n",
    "elif temperature > 20:\n",
    "    print(\"It's a warm day\")\n",
    "elif temperature > 10:\n",
    "    print(\"Its's a cool day\")\n",
    "else:\n",
    "    print(\"Its's a cool day*************\")"
   ]
  },
  {
   "cell_type": "code",
   "execution_count": 9,
   "id": "b995b640",
   "metadata": {},
   "outputs": [
    {
     "name": "stdout",
     "output_type": "stream",
     "text": [
      "Its a warm day with comfortable humidity\n"
     ]
    }
   ],
   "source": [
    "# nested if statement\n",
    "\n",
    "temperature = 25\n",
    "humidity = 60\n",
    "\n",
    "if temperature >20:\n",
    "    if humidity > 60:\n",
    "        print(\"Its a warm and humid day.\")\n",
    "    else:\n",
    "        print(\"Its a warm day with comfortable humidity\")"
   ]
  },
  {
   "cell_type": "code",
   "execution_count": 12,
   "id": "c813b315",
   "metadata": {},
   "outputs": [
    {
     "name": "stdout",
     "output_type": "stream",
     "text": [
      "Its too cold for a walk.\n"
     ]
    }
   ],
   "source": [
    "# with logical operators\n",
    "temperature = 11\n",
    "is_sunny = False\n",
    "\n",
    "if temperature > 20 and is_sunny:\n",
    "    print(\"its a great day for a walk\")\n",
    "elif temperature > 20 and not is_sunny:\n",
    "    print(\"its a warm, but cloudy.\")\n",
    "else:\n",
    "    print(\"Its too cold for a walk.\")"
   ]
  },
  {
   "cell_type": "markdown",
   "id": "d0deec2f",
   "metadata": {},
   "source": [
    "## Summary\n",
    "- if Statement: Executes code if a condition is True.\n",
    "- if-else Statement: Provides an alternative block of code if the condition is False.\n",
    "- if-elif-else Statement: Checks multiple conditions in sequence.\n",
    "- Nested if Statements: Allows more complex decision-making by nesting conditions.\n",
    "- Logical Operators: Combine multiple conditions for more sophisticated checks.\n",
    "\n",
    "### Don't forget to like, comment, and subscribe @Biocreator for more Python tutorials! 👍\n",
    "\n"
   ]
  }
 ],
 "metadata": {
  "kernelspec": {
   "display_name": "Python 3 (ipykernel)",
   "language": "python",
   "name": "python3"
  },
  "language_info": {
   "codemirror_mode": {
    "name": "ipython",
    "version": 3
   },
   "file_extension": ".py",
   "mimetype": "text/x-python",
   "name": "python",
   "nbconvert_exporter": "python",
   "pygments_lexer": "ipython3",
   "version": "3.9.13"
  }
 },
 "nbformat": 4,
 "nbformat_minor": 5
}
