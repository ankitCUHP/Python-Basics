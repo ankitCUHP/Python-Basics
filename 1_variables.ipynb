{
 "cells": [
  {
   "cell_type": "markdown",
   "id": "b4443a48",
   "metadata": {},
   "source": [
    "# Variables"
   ]
  },
  {
   "cell_type": "code",
   "execution_count": 2,
   "id": "ff4911f7",
   "metadata": {},
   "outputs": [
    {
     "name": "stdout",
     "output_type": "stream",
     "text": [
      "90\n",
      "89\n",
      "92\n",
      "<class 'int'>\n"
     ]
    }
   ],
   "source": [
    "physics = 90\n",
    "chemistry = 89\n",
    "bio = 92\n",
    "abc = 80\n",
    "\n",
    "print(physics)\n",
    "print(chemistry)\n",
    "print(bio)\n",
    "print(type(abc))"
   ]
  },
  {
   "cell_type": "code",
   "execution_count": 4,
   "id": "df1dc1c9",
   "metadata": {},
   "outputs": [
    {
     "name": "stdout",
     "output_type": "stream",
     "text": [
      "Subjects:  physics chemistry bio\n"
     ]
    }
   ],
   "source": [
    "sub1 = \"physics\"\n",
    "sub2 = \"chemistry\"\n",
    "sub3 = \"bio\"\n",
    "\n",
    "print(\"Subjects: \",sub1,sub2,sub3)"
   ]
  },
  {
   "cell_type": "code",
   "execution_count": null,
   "id": "de00f4d0",
   "metadata": {},
   "outputs": [],
   "source": []
  }
 ],
 "metadata": {
  "kernelspec": {
   "display_name": "Python 3 (ipykernel)",
   "language": "python",
   "name": "python3"
  },
  "language_info": {
   "codemirror_mode": {
    "name": "ipython",
    "version": 3
   },
   "file_extension": ".py",
   "mimetype": "text/x-python",
   "name": "python",
   "nbconvert_exporter": "python",
   "pygments_lexer": "ipython3",
   "version": "3.9.13"
  }
 },
 "nbformat": 4,
 "nbformat_minor": 5
}
