{
 "cells": [
  {
   "cell_type": "markdown",
   "id": "1e678ee5",
   "metadata": {},
   "source": [
    "# Strings\n",
    "A string in Python is a sequence of characters enclosed within single quotes, double quotes, or triple quotes.\n",
    "\n",
    "Example: “science” or ‘Bioinformatics’ or ‘‘‘physics’’’\n",
    "\n",
    "### Importance of Understanding Strings\n",
    "**File Operations**: Reading from or writing to text files involves strings.\\\n",
    "**Storing Text Data**: Any text you work with, like names, addresses, or any other written information, is stored as a string.\\\n",
    "**Manipulating Text**: You often need to search, modify, or analyze text, which involves working with strings."
   ]
  },
  {
   "cell_type": "markdown",
   "id": "6e2b81e6",
   "metadata": {},
   "source": [
    "## creating strings"
   ]
  },
  {
   "cell_type": "code",
   "execution_count": 1,
   "id": "86dfa543",
   "metadata": {},
   "outputs": [
    {
     "name": "stdout",
     "output_type": "stream",
     "text": [
      "hello world\n"
     ]
    }
   ],
   "source": [
    "single_quoted = 'hello world'\n",
    "print(single_quoted)"
   ]
  },
  {
   "cell_type": "code",
   "execution_count": 9,
   "id": "0c3fac2f",
   "metadata": {},
   "outputs": [
    {
     "name": "stdout",
     "output_type": "stream",
     "text": [
      "Hello World\n"
     ]
    }
   ],
   "source": [
    "double_quoted = \"Hello World\"\n",
    "print(double_quoted)"
   ]
  },
  {
   "cell_type": "code",
   "execution_count": 10,
   "id": "e7d1f6e9",
   "metadata": {},
   "outputs": [
    {
     "name": "stdout",
     "output_type": "stream",
     "text": [
      "this is my \n",
      "pc\n",
      "hii\n",
      "hello world\n"
     ]
    }
   ],
   "source": [
    "multi_line = \"\"\"this is my \n",
    "pc\n",
    "hii\n",
    "hello world\"\"\"\n",
    "\n",
    "print(multi_line)"
   ]
  },
  {
   "cell_type": "markdown",
   "id": "b597fad9",
   "metadata": {},
   "source": [
    "## accessing character"
   ]
  },
  {
   "cell_type": "code",
   "execution_count": 16,
   "id": "ec65041f",
   "metadata": {},
   "outputs": [
    {
     "name": "stdout",
     "output_type": "stream",
     "text": [
      "p\n"
     ]
    }
   ],
   "source": [
    "# accessing character\n",
    "string = \"python\"\n",
    "#print(string[0])\n",
    "#print(string[1])\n",
    "print(string[-6])"
   ]
  },
  {
   "cell_type": "code",
   "execution_count": null,
   "id": "74569c0e",
   "metadata": {},
   "outputs": [],
   "source": []
  },
  {
   "cell_type": "markdown",
   "id": "8d839aeb",
   "metadata": {},
   "source": [
    "## slicing strings"
   ]
  },
  {
   "cell_type": "code",
   "execution_count": 23,
   "id": "eef2ae64",
   "metadata": {},
   "outputs": [
    {
     "name": "stdout",
     "output_type": "stream",
     "text": [
      "info\n"
     ]
    }
   ],
   "source": [
    "string1 = \"bioinformatics\"\n",
    "#print(string1[0:3])\n",
    "#print(string1[2:])\n",
    "#print(string1[-2:])\n",
    "print(string1[3:7])"
   ]
  },
  {
   "cell_type": "markdown",
   "id": "87f819aa",
   "metadata": {},
   "source": [
    "## string methods"
   ]
  },
  {
   "cell_type": "code",
   "execution_count": 25,
   "id": "94422a46",
   "metadata": {},
   "outputs": [
    {
     "name": "stdout",
     "output_type": "stream",
     "text": [
      "SCIENCE\n",
      "science\n"
     ]
    }
   ],
   "source": [
    "subject = \"Science\"\n",
    "print(subject.upper())\n",
    "print(subject.lower())"
   ]
  },
  {
   "cell_type": "code",
   "execution_count": 26,
   "id": "d00e0655",
   "metadata": {},
   "outputs": [
    {
     "name": "stdout",
     "output_type": "stream",
     "text": [
      "6\n"
     ]
    }
   ],
   "source": [
    "string3 = \"hello world\"\n",
    "print(string3.find(\"world\"))"
   ]
  },
  {
   "cell_type": "code",
   "execution_count": 27,
   "id": "a335de72",
   "metadata": {},
   "outputs": [
    {
     "name": "stdout",
     "output_type": "stream",
     "text": [
      "5\n"
     ]
    }
   ],
   "source": [
    "box = \"ACGTGTATAAA\"\n",
    "print(box.find(\"TATA\"))"
   ]
  },
  {
   "cell_type": "code",
   "execution_count": 28,
   "id": "0b39cd29",
   "metadata": {},
   "outputs": [
    {
     "name": "stdout",
     "output_type": "stream",
     "text": [
      "ACGTGCGCGAA\n"
     ]
    }
   ],
   "source": [
    "box = \"ACGTGTATAAA\"\n",
    "print(box.replace(\"TATA\",\"CGCG\"))"
   ]
  },
  {
   "cell_type": "code",
   "execution_count": null,
   "id": "832d07ea",
   "metadata": {},
   "outputs": [],
   "source": []
  }
 ],
 "metadata": {
  "kernelspec": {
   "display_name": "Python 3 (ipykernel)",
   "language": "python",
   "name": "python3"
  },
  "language_info": {
   "codemirror_mode": {
    "name": "ipython",
    "version": 3
   },
   "file_extension": ".py",
   "mimetype": "text/x-python",
   "name": "python",
   "nbconvert_exporter": "python",
   "pygments_lexer": "ipython3",
   "version": "3.9.13"
  }
 },
 "nbformat": 4,
 "nbformat_minor": 5
}
