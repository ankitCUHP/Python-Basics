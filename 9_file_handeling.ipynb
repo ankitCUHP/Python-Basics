{
 "cells": [
  {
   "cell_type": "markdown",
   "id": "02f5cf5f",
   "metadata": {},
   "source": [
    "# File Handling in Python\n",
    "File handling in Python allows you to work with files—reading from and writing to them. Python provides built-in functions to create, open, read, write, and close files.\n",
    "\n",
    "## 1. Opening a File\n",
    "You can open a file using the open() function. It requires two parameters: the file name and the mode of operation.\n",
    "\n",
    "## Common Modes:\n",
    "\n",
    "- 'r': Read (default) - Opens a file for reading.\n",
    "- 'w': Write - Opens a file for writing (creates a new file or truncates the existing one).\n",
    "- 'a': Append - Opens a file for appending (new data is added to the end).\n",
    "- 'r+': Read and Write.\n",
    "\n",
    "## 2. Reading from a File\n",
    "You can read the contents of a file using methods like read(), readline(), or readlines().\n",
    "\n",
    "## 3. Writing to a File\n",
    "To write to a file, open it in 'w' or 'a' mode. Be careful: 'w' mode overwrites the file.\n",
    "\n",
    "## 4. Appending to a File\n",
    "Use 'a' mode to add content without overwriting the existing data.\n",
    "\n",
    "## 5. Closing a File\n",
    "Always close the file after you're done to free up system resources.\n",
    "\n",
    "## 6. Using with Statement\n",
    "The with statement automatically closes the file, even if an exception occurs.\n",
    "\n",
    "## 7. Checking if a File Exists\n",
    "Use os.path to check if a file exists before trying to open it."
   ]
  },
  {
   "cell_type": "code",
   "execution_count": 78,
   "id": "e0344ca6",
   "metadata": {},
   "outputs": [],
   "source": [
    "#Opening a File\n",
    "file = open('/home/ankit/python_programming/python_tutorials/rcsb_pdb_1AKI.fasta','r')"
   ]
  },
  {
   "cell_type": "code",
   "execution_count": 79,
   "id": "397a0374",
   "metadata": {},
   "outputs": [
    {
     "name": "stdout",
     "output_type": "stream",
     "text": [
      ">1AKI_1|Chain A|LYSOZYME|Gallus gallus (9031)\n",
      "KVFGRCELAAAMKRHGLDNYRGYSLGNWVCAAKFESNFNTQATNRNTDGSTDYGILQINSRWWCNDGRTPGSRNLCNIPCSALLSSDITASVNCAKKIVSDGNGMNAWVAWRNRCKGTDVQAWIRGCRL\n"
     ]
    }
   ],
   "source": [
    "#Reading from a File\n",
    "# content = file.read()\n",
    "# print(content)\n",
    "\n",
    "\n",
    "for line in file:\n",
    "        print(line.strip())\n",
    "        "
   ]
  },
  {
   "cell_type": "code",
   "execution_count": 70,
   "id": "4bbf6afe",
   "metadata": {},
   "outputs": [],
   "source": [
    "#Writing to a File\n",
    "file = open(\"/home/ankit/python_programming/python_tutorials/new_file.txt\",\"w\")\n",
    "file.write(\"this is a new line\\nadding another line....\")\n",
    "file.close()"
   ]
  },
  {
   "cell_type": "code",
   "execution_count": 71,
   "id": "f7caf02f",
   "metadata": {},
   "outputs": [],
   "source": [
    "# Appending to a File\n",
    "file = open(\"/home/ankit/python_programming/python_tutorials/new_file.txt\",\"a\")\n",
    "file.write(\"\\nthis is appended line\")\n",
    "file.close()"
   ]
  },
  {
   "cell_type": "code",
   "execution_count": 73,
   "id": "cfbd57d2",
   "metadata": {},
   "outputs": [],
   "source": [
    "#Using with Statement\n",
    "\n",
    "with open(\"/home/ankit/python_programming/python_tutorials/new_file.txt\",\"a\") as file:\n",
    "    file.write(\"#################\")"
   ]
  },
  {
   "cell_type": "code",
   "execution_count": 75,
   "id": "4fcad2c0",
   "metadata": {},
   "outputs": [
    {
     "name": "stdout",
     "output_type": "stream",
     "text": [
      "File does not exist\n"
     ]
    }
   ],
   "source": [
    "#Checking if a File Exists\n",
    "import os\n",
    "\n",
    "if os.path.exists(\"/home/ankit/python_programming/python_tutorials/abc.txt\"):\n",
    "    with open(\"/home/ankit/python_programming/python_tutorials/new_file.txt\",'r') as file:\n",
    "        print(file.read())\n",
    "else:\n",
    "    print(\"File does not exist\")"
   ]
  },
  {
   "cell_type": "markdown",
   "id": "d35615bf",
   "metadata": {},
   "source": [
    "## Summary:\n",
    "- Opening a File: Use open() with the appropriate mode.\n",
    "- Reading: Use read(), readline(), or readlines().\n",
    "- Writing: Use write() in 'w' or 'a' mode.\n",
    "- Closing: Always close files with close() or use with for automatic closure.\n",
    "- Checking Existence: Use os.path.exists().\n",
    "### Don't forget to like, comment, and subscribe @Biocreator for more Python tutorials! 👍"
   ]
  }
 ],
 "metadata": {
  "kernelspec": {
   "display_name": "Python 3 (ipykernel)",
   "language": "python",
   "name": "python3"
  },
  "language_info": {
   "codemirror_mode": {
    "name": "ipython",
    "version": 3
   },
   "file_extension": ".py",
   "mimetype": "text/x-python",
   "name": "python",
   "nbconvert_exporter": "python",
   "pygments_lexer": "ipython3",
   "version": "3.9.13"
  }
 },
 "nbformat": 4,
 "nbformat_minor": 5
}
