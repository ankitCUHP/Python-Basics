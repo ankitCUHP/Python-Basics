{
 "cells": [
  {
   "cell_type": "markdown",
   "id": "38439a97",
   "metadata": {},
   "source": [
    "# List and Tuples in python"
   ]
  },
  {
   "cell_type": "markdown",
   "id": "8258de19",
   "metadata": {},
   "source": [
    "## 1.What are Lists?\n",
    "\n",
    "- A list is a collection of items (elements) that are ordered, changeable (mutable), and allow duplicate elements.\n",
    "- Lists are defined by square brackets [ ].\n",
    "- Example: my_list = [1, 2, 3, 'apple', 4.5]\n",
    "\n",
    "## 2.What are Tuples?\n",
    "\n",
    "- A tuple is similar to a list but is immutable, meaning that once a tuple is created, its elements cannot be changed.\n",
    "- Tuples are defined by parentheses ().\n",
    "- Example: my_tuple = (1, 2, 3, 'apple', 4.5)\n",
    "\n",
    "## 3.Differences Between Lists and Tuples:\n",
    "\n",
    "- Mutability: Lists are mutable; tuples are immutable.\n",
    "- Syntax: Lists use square brackets [ ], while tuples use parentheses ().\n",
    "- Performance: Tuples are generally faster than lists because they are immutable.\n",
    "\n",
    "## 4.Basic Operations:\n",
    "\n",
    "- Accessing elements by index.\n",
    "- Slicing lists and tuples.\n",
    "- Adding, updating, and removing elements (for lists).\n",
    "- Unpacking tuples."
   ]
  },
  {
   "cell_type": "code",
   "execution_count": 1,
   "id": "6de89576",
   "metadata": {},
   "outputs": [
    {
     "name": "stdout",
     "output_type": "stream",
     "text": [
      "List: [10, 20, 30, 'banana', 40.5]\n"
     ]
    }
   ],
   "source": [
    "my_list = [10, 20, 30, 'banana', 40.5]\n",
    "print(\"List:\", my_list)"
   ]
  },
  {
   "cell_type": "code",
   "execution_count": 2,
   "id": "be895b40",
   "metadata": {},
   "outputs": [
    {
     "name": "stdout",
     "output_type": "stream",
     "text": [
      "First element: 10\n",
      "Last element: 40.5\n"
     ]
    }
   ],
   "source": [
    "# Accessing elements in a list\n",
    "print(\"First element:\", my_list[0])\n",
    "print(\"Last element:\", my_list[-1])"
   ]
  },
  {
   "cell_type": "code",
   "execution_count": 3,
   "id": "1e157f07",
   "metadata": {},
   "outputs": [
    {
     "name": "stdout",
     "output_type": "stream",
     "text": [
      "Modified List: [10, 25, 30, 'banana', 40.5]\n"
     ]
    }
   ],
   "source": [
    "# Modifying elements in a list\n",
    "my_list[1] = 25\n",
    "print(\"Modified List:\", my_list)"
   ]
  },
  {
   "cell_type": "code",
   "execution_count": 7,
   "id": "ca057dda",
   "metadata": {},
   "outputs": [
    {
     "name": "stdout",
     "output_type": "stream",
     "text": [
      "List after append: [10, 25, 30, 'banana', 40.5, 15, 20, 202, 'cuhp']\n"
     ]
    }
   ],
   "source": [
    "# Adding elements to a list\n",
    "my_list.append('cuhp')\n",
    "print(\"List after append:\", my_list)"
   ]
  },
  {
   "cell_type": "code",
   "execution_count": 10,
   "id": "31efc5ae",
   "metadata": {},
   "outputs": [
    {
     "name": "stdout",
     "output_type": "stream",
     "text": [
      "List after removal: [10, 25, 30, 40.5, 15, 20]\n"
     ]
    }
   ],
   "source": [
    "# Removing elements from a list\n",
    "my_list.remove(202)\n",
    "print(\"List after removal:\", my_list)"
   ]
  },
  {
   "cell_type": "code",
   "execution_count": 11,
   "id": "65a0e838",
   "metadata": {},
   "outputs": [
    {
     "name": "stdout",
     "output_type": "stream",
     "text": [
      "Sliced List: [25, 30]\n"
     ]
    }
   ],
   "source": [
    "# Slicing a list\n",
    "sliced_list = my_list[1:3]\n",
    "print(\"Sliced List:\", sliced_list)"
   ]
  },
  {
   "cell_type": "markdown",
   "id": "e1d8c224",
   "metadata": {},
   "source": [
    "## Tuples in Python\n"
   ]
  },
  {
   "cell_type": "code",
   "execution_count": 12,
   "id": "0a9b443a",
   "metadata": {},
   "outputs": [
    {
     "name": "stdout",
     "output_type": "stream",
     "text": [
      "Tuple: (10, 20, 30, 'apple', 50.5)\n"
     ]
    }
   ],
   "source": [
    "my_tuple = (10, 20, 30, 'apple', 50.5)\n",
    "print(\"Tuple:\", my_tuple)"
   ]
  },
  {
   "cell_type": "code",
   "execution_count": 13,
   "id": "548f67da",
   "metadata": {},
   "outputs": [
    {
     "name": "stdout",
     "output_type": "stream",
     "text": [
      "First element: 10\n",
      "Last element: 50.5\n"
     ]
    }
   ],
   "source": [
    "# Accessing elements in a tuple\n",
    "print(\"First element:\", my_tuple[0])  # Output: 10\n",
    "print(\"Last element:\", my_tuple[-1])  # Output: 50.5\n"
   ]
  },
  {
   "cell_type": "code",
   "execution_count": 16,
   "id": "aca10d3d",
   "metadata": {},
   "outputs": [
    {
     "name": "stdout",
     "output_type": "stream",
     "text": [
      "Unpacked Tuple: 10 20 30 apple 50.5\n",
      "50.5\n",
      "<class 'int'>\n",
      "<class 'str'>\n"
     ]
    }
   ],
   "source": [
    "# Unpacking a tuple\n",
    "a, b, c, d, e = my_tuple\n",
    "print(\"Unpacked Tuple:\", a, b, c, d, e)\n",
    "print(e)\n",
    "print(type(a))\n",
    "print(type(d))"
   ]
  },
  {
   "cell_type": "code",
   "execution_count": 17,
   "id": "3fbac0e0",
   "metadata": {},
   "outputs": [
    {
     "name": "stdout",
     "output_type": "stream",
     "text": [
      "Sliced Tuple: (20, 30, 'apple')\n"
     ]
    }
   ],
   "source": [
    "# Slicing a tuple\n",
    "sliced_tuple = my_tuple[1:4]\n",
    "print(\"Sliced Tuple:\", sliced_tuple)"
   ]
  },
  {
   "cell_type": "code",
   "execution_count": 18,
   "id": "c2fb8b84",
   "metadata": {},
   "outputs": [
    {
     "ename": "TypeError",
     "evalue": "'tuple' object does not support item assignment",
     "output_type": "error",
     "traceback": [
      "\u001b[0;31m---------------------------------------------------------------------------\u001b[0m",
      "\u001b[0;31mTypeError\u001b[0m                                 Traceback (most recent call last)",
      "\u001b[0;32m/tmp/ipykernel_10725/447226307.py\u001b[0m in \u001b[0;36m<module>\u001b[0;34m\u001b[0m\n\u001b[1;32m      1\u001b[0m \u001b[0;31m# Attempting to modify a tuple (will raise an error)\u001b[0m\u001b[0;34m\u001b[0m\u001b[0;34m\u001b[0m\u001b[0m\n\u001b[0;32m----> 2\u001b[0;31m \u001b[0mmy_tuple\u001b[0m\u001b[0;34m[\u001b[0m\u001b[0;36m1\u001b[0m\u001b[0;34m]\u001b[0m \u001b[0;34m=\u001b[0m \u001b[0;36m25\u001b[0m\u001b[0;34m\u001b[0m\u001b[0;34m\u001b[0m\u001b[0m\n\u001b[0m\u001b[1;32m      3\u001b[0m \u001b[0mprint\u001b[0m\u001b[0;34m(\u001b[0m\u001b[0mmy_tuple\u001b[0m\u001b[0;34m[\u001b[0m\u001b[0;36m1\u001b[0m\u001b[0;34m]\u001b[0m\u001b[0;34m)\u001b[0m\u001b[0;34m\u001b[0m\u001b[0;34m\u001b[0m\u001b[0m\n",
      "\u001b[0;31mTypeError\u001b[0m: 'tuple' object does not support item assignment"
     ]
    }
   ],
   "source": [
    "# Attempting to modify a tuple (will raise an error)\n",
    "my_tuple[1] = 25\n",
    "print(my_tuple[1])"
   ]
  },
  {
   "cell_type": "code",
   "execution_count": 19,
   "id": "d07f55a0",
   "metadata": {},
   "outputs": [
    {
     "ename": "AttributeError",
     "evalue": "'tuple' object has no attribute 'append'",
     "output_type": "error",
     "traceback": [
      "\u001b[0;31m---------------------------------------------------------------------------\u001b[0m",
      "\u001b[0;31mAttributeError\u001b[0m                            Traceback (most recent call last)",
      "\u001b[0;32m/tmp/ipykernel_10725/801112147.py\u001b[0m in \u001b[0;36m<module>\u001b[0;34m\u001b[0m\n\u001b[1;32m      1\u001b[0m \u001b[0;31m# Attempting to add to a tuple (will raise an error)\u001b[0m\u001b[0;34m\u001b[0m\u001b[0;34m\u001b[0m\u001b[0m\n\u001b[0;32m----> 2\u001b[0;31m \u001b[0mmy_tuple\u001b[0m\u001b[0;34m.\u001b[0m\u001b[0mappend\u001b[0m\u001b[0;34m(\u001b[0m\u001b[0;34m'banana'\u001b[0m\u001b[0;34m)\u001b[0m\u001b[0;34m\u001b[0m\u001b[0;34m\u001b[0m\u001b[0m\n\u001b[0m\u001b[1;32m      3\u001b[0m \u001b[0mprint\u001b[0m\u001b[0;34m(\u001b[0m\u001b[0mmy_tuple\u001b[0m\u001b[0;34m)\u001b[0m\u001b[0;34m\u001b[0m\u001b[0;34m\u001b[0m\u001b[0m\n",
      "\u001b[0;31mAttributeError\u001b[0m: 'tuple' object has no attribute 'append'"
     ]
    }
   ],
   "source": [
    "# Attempting to add to a tuple (will raise an error)\n",
    "my_tuple.append('banana')\n",
    "print(my_tuple)\n"
   ]
  },
  {
   "cell_type": "code",
   "execution_count": null,
   "id": "70238642",
   "metadata": {},
   "outputs": [],
   "source": []
  }
 ],
 "metadata": {
  "kernelspec": {
   "display_name": "Python 3 (ipykernel)",
   "language": "python",
   "name": "python3"
  },
  "language_info": {
   "codemirror_mode": {
    "name": "ipython",
    "version": 3
   },
   "file_extension": ".py",
   "mimetype": "text/x-python",
   "name": "python",
   "nbconvert_exporter": "python",
   "pygments_lexer": "ipython3",
   "version": "3.9.13"
  }
 },
 "nbformat": 4,
 "nbformat_minor": 5
}
