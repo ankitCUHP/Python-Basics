{
 "cells": [
  {
   "cell_type": "markdown",
   "id": "4a598a06-dc2f-4e6b-8f52-bdddff58154f",
   "metadata": {},
   "source": [
    "# Operators in Python\n",
    "## 1. Arithmetic Operators:\n",
    "These operators perform mathematical operations.\n",
    "\n",
    "- Addition (+): Adds two numbers.\\\n",
    "Example: Adding the lengths of two DNA sequences.\n",
    "- Subtraction (-): Subtracts one number from another.\\\n",
    "Example: Calculating the difference in the number of genes between two genomes.\n",
    "- Multiplication (*): Multiplies two numbers.\\\n",
    "Example: Scaling the number of reads in a sequencing experiment.\n",
    "- Division (/): Divides one number by another.\\\n",
    "Example: Calculating the average length of exons in a gene.\n",
    "- Modulus (%): Returns the remainder of a division.\\\n",
    "Example: Checking if the length of a DNA sequence is a multiple of 3 (useful in codon analysis).\n",
    "- Exponentiation (**): Raises one number to the power of another.\\\n",
    "Example: Calculating the number of possible nucleotide combinations in a sequence of a given length.\n",
    "- Floor Division (//): Divides one number by another and returns the largest integer less than or equal to the result.\\\n",
    "Example: Determining how many complete codons fit into a given DNA sequence length.\n",
    "\n",
    "## 2. Comparison Operators:\n",
    "These operators compare two values and return a Boolean (True or False).\n",
    "\n",
    "- Equal (==): Checks if two values are equal.\n",
    "Example: Checking if two gene IDs are the same.\n",
    "- Not Equal (!=): Checks if two values are not equal.\n",
    "Example: Verifying that two DNA sequences are not identical.\n",
    "- Greater Than (>): Checks if one value is greater than another.\n",
    "Example: Checking if the GC content of one gene is higher than another.\n",
    "- Less Than (<): Checks if one value is less than another.\n",
    "Example: Determining if a protein's length is shorter than a given threshold.\n",
    "- Greater Than or Equal To (>=): Checks if one value is greater than or equal to another.\n",
    "Example: Ensuring a sequencing read length meets the minimum requirement.\n",
    "- Less Than or Equal To (<=): Checks if one value is less than or equal to another.\n",
    "\n",
    "Example: Verifying that the mutation rate does not exceed a specified value.\n",
    "## 3. Logical Operators:\n",
    "These operators combine multiple conditions.\n",
    "\n",
    "- AND (and): Returns True if both conditions are true.\n",
    "Example: Checking if a sequence is long enough and has high GC content.\n",
    "- OR (or): Returns True if at least one condition is true.\n",
    "Example: Determining if a gene is either highly expressed or shows significant mutation.\n",
    "- NOT (not): Reverses the logical state of the condition.\n",
    "Example: Checking if a gene is not present in a dataset.\n",
    "\n",
    "## 4. Assignment Operators:\n",
    "These operators assign values to variables.\n",
    "\n",
    "- =: Assigns a value to a variable.\n",
    "Example: Assigning a sequence to a variable.\n",
    "- +=: Adds and assigns the result to the variable.\n",
    "Example: Adding a count of reads to a total count.\n",
    "- -=: Subtracts and assigns the result to the variable.\n",
    "Example: Decreasing the number of remaining reads after processing.\n",
    "- *=: Multiplies and assigns the result to the variable.\n",
    "Example: Doubling the coverage depth in a sequencing experiment.\n",
    "- /=: Divides and assigns the result to the variable.\n",
    "Example: Halving the concentration of a reagent in a dilution series.\n",
    "- %=: Applies modulus and assigns the result to the variable.\n",
    "Example: Finding the remainder when the total length of sequences is divided by a specific number."
   ]
  },
  {
   "cell_type": "markdown",
   "id": "e03f03d0-76c1-401e-ae0a-000abfd3eea1",
   "metadata": {},
   "source": [
    "## 1. Arithmetic Operations"
   ]
  },
  {
   "cell_type": "code",
   "execution_count": 38,
   "id": "2ee092aa-4f7f-4d38-9ae5-3498f9173f80",
   "metadata": {},
   "outputs": [
    {
     "name": "stdout",
     "output_type": "stream",
     "text": [
      "Total Sequence Length: 3800 bp\n"
     ]
    }
   ],
   "source": [
    "seq_length1 = 1500  # Length of sequence 1\n",
    "seq_length2 = 2300  # Length of sequence 2\n",
    "\n",
    "# Addition\n",
    "total_length = seq_length1 + seq_length2\n",
    "print(f\"Total Sequence Length: {total_length} bp\")"
   ]
  },
  {
   "cell_type": "code",
   "execution_count": 37,
   "id": "52487702-c6d2-4b34-bcf6-27595e2ac485",
   "metadata": {},
   "outputs": [
    {
     "name": "stdout",
     "output_type": "stream",
     "text": [
      "Length Difference: 800 bp\n"
     ]
    }
   ],
   "source": [
    "# Subtraction\n",
    "length_difference = seq_length2 - seq_length1\n",
    "print(f\"Length Difference: {length_difference} bp\")"
   ]
  },
  {
   "cell_type": "code",
   "execution_count": 39,
   "id": "aa403eaf-ce21-402b-bee7-8d5a301180e1",
   "metadata": {},
   "outputs": [
    {
     "name": "stdout",
     "output_type": "stream",
     "text": [
      "Scaled Reads: 20000\n"
     ]
    }
   ],
   "source": [
    "# Multiplication\n",
    "scaled_reads = 10000 * 2  # Doubling the number of reads\n",
    "print(f\"Scaled Reads: {scaled_reads}\")"
   ]
  },
  {
   "cell_type": "markdown",
   "id": "142c9c7a-d4cb-4418-b865-6b5cb09d3be9",
   "metadata": {},
   "source": [
    "## 2.Comparison Operations\n"
   ]
  },
  {
   "cell_type": "code",
   "execution_count": 43,
   "id": "d72aaeb1-28d2-4d8f-9a5e-60d858070b88",
   "metadata": {},
   "outputs": [
    {
     "name": "stdin",
     "output_type": "stream",
     "text": [
      "Gene Expression:  500\n"
     ]
    },
    {
     "name": "stdout",
     "output_type": "stream",
     "text": [
      "Is Gene 1 more highly expressed than Gene 2? False\n"
     ]
    }
   ],
   "source": [
    "# Scenario: Compare the expression levels of two genes to identify the more highly expressed gene.\n",
    "expression_gene1 = int(input(\"Gene Expression: \"))\n",
    "expression_gene2 = 950\n",
    "\n",
    "# Greater Than\n",
    "is_gene1_more_expressed = expression_gene1 > expression_gene2\n",
    "print(f\"Is Gene 1 more highly expressed than Gene 2? {is_gene1_more_expressed}\")"
   ]
  },
  {
   "cell_type": "code",
   "execution_count": 44,
   "id": "628ee770-4cf1-4939-a5ad-55608406b2d8",
   "metadata": {},
   "outputs": [
    {
     "name": "stdout",
     "output_type": "stream",
     "text": [
      "Does Sample 1 have fewer or equal mutations than Sample 2? False\n"
     ]
    }
   ],
   "source": [
    "# Scenario: Determine if the number of mutations in one sample is equal to or less than in another sample.\n",
    "mutations_sample1 = 45\n",
    "mutations_sample2 = 52\n",
    "\n",
    "# Less Than or Equal To\n",
    "fewer_mutations = mutations_sample1 == mutations_sample2\n",
    "print(f\"Does Sample 1 have fewer or equal mutations than Sample 2? {fewer_mutations}\")"
   ]
  },
  {
   "cell_type": "code",
   "execution_count": 46,
   "id": "65f05bd9-ffe0-40d9-a4bd-18d1cd3763ba",
   "metadata": {},
   "outputs": [
    {
     "name": "stdout",
     "output_type": "stream",
     "text": [
      "Is the sequence long enough for analysis? False\n"
     ]
    }
   ],
   "source": [
    "# Scenario: Verify if a sequence is long enough for a particular analysis.\n",
    "sequence_length = 800\n",
    "min_length_required = 1000\n",
    "\n",
    "# Greater Than or Equal To\n",
    "is_valid_length = sequence_length >= min_length_required\n",
    "print(f\"Is the sequence long enough for analysis? {is_valid_length}\")"
   ]
  },
  {
   "cell_type": "code",
   "execution_count": 48,
   "id": "2701e289-70d7-42bb-afb5-ae7b220468fb",
   "metadata": {},
   "outputs": [
    {
     "name": "stdin",
     "output_type": "stream",
     "text": [
      "Enter 2nd protein size 600\n"
     ]
    },
    {
     "name": "stdout",
     "output_type": "stream",
     "text": [
      "Are the two proteins the same size? False\n"
     ]
    }
   ],
   "source": [
    "#Scenario: Check if two proteins have the same number of amino acids.\n",
    "protein_size1 = 300\n",
    "protein_size2 = int(input(\"Enter 2nd protein size\"))\n",
    "\n",
    "# Equal\n",
    "are_proteins_same_size = protein_size1 == protein_size2\n",
    "print(f\"Are the two proteins the same size? {are_proteins_same_size}\")"
   ]
  },
  {
   "cell_type": "code",
   "execution_count": 51,
   "id": "47bcb6e2-1f50-412e-b926-e5904e2c76dc",
   "metadata": {},
   "outputs": [
    {
     "name": "stdin",
     "output_type": "stream",
     "text": [
      "Enter GC content:  0.61\n"
     ]
    },
    {
     "name": "stdout",
     "output_type": "stream",
     "text": [
      "Is the GC content within the range? False\n"
     ]
    }
   ],
   "source": [
    "#Scenario: Determine if the GC content of a gene is within a specific range.\n",
    "gc_content = float(input(\"Enter GC content: \"))\n",
    "min_gc = 0.40\n",
    "max_gc = 0.60\n",
    "\n",
    "# Between Range\n",
    "is_gc_content_in_range = min_gc <= gc_content <= max_gc\n",
    "print(f\"Is the GC content within the range? {is_gc_content_in_range}\")"
   ]
  },
  {
   "cell_type": "markdown",
   "id": "f4c11741-4e25-4a3f-8da1-fdfb843feaea",
   "metadata": {},
   "source": [
    "## 3. Logical Operators"
   ]
  },
  {
   "cell_type": "code",
   "execution_count": 53,
   "id": "eb012494-b398-4a21-b07e-f42050d30232",
   "metadata": {},
   "outputs": [
    {
     "name": "stdout",
     "output_type": "stream",
     "text": [
      "Select the gene? False\n"
     ]
    }
   ],
   "source": [
    "# Scenario: Select a gene if it has high expression and low mutation rate.\n",
    "high_expression_threshold = 1000\n",
    "low_mutation_threshold = 10\n",
    "\n",
    "gene_expression = 1200\n",
    "gene_mutations = 11\n",
    "\n",
    "# AND Operation\n",
    "select_gene = gene_expression > high_expression_threshold and gene_mutations < low_mutation_threshold\n",
    "print(f\"Select the gene? {select_gene}\")"
   ]
  },
  {
   "cell_type": "code",
   "execution_count": 55,
   "id": "c5f1e4b4-c138-4dda-add7-f196165d11e1",
   "metadata": {},
   "outputs": [
    {
     "name": "stdout",
     "output_type": "stream",
     "text": [
      "Is the sequence eligible based on length or GC content? False\n"
     ]
    }
   ],
   "source": [
    "# Scenario: Select sequences that are either long or have high GC content.\n",
    "sequence_length = 2000\n",
    "gc_content = 0.38\n",
    "\n",
    "min_length = 2500\n",
    "high_gc_content = 0.40\n",
    "\n",
    "# OR Operation\n",
    "is_sequence_eligible = sequence_length > min_length or gc_content > high_gc_content\n",
    "print(f\"Is the sequence eligible based on length or GC content? {is_sequence_eligible}\")"
   ]
  },
  {
   "cell_type": "code",
   "execution_count": 57,
   "id": "9d5f97c8-0a4e-4b0d-8c32-2b4a91c3e942",
   "metadata": {},
   "outputs": [
    {
     "name": "stdout",
     "output_type": "stream",
     "text": [
      "Is the variant rare and located in an exon? False\n"
     ]
    }
   ],
   "source": [
    "# Scenario: Consider a variant if it is rare and located in a specific region.\n",
    "variant_frequency = 0.01\n",
    "region = \"intron\"\n",
    "\n",
    "# AND and NOT Operation\n",
    "is_rare_exonic_variant = variant_frequency < 0.05 and region == \"exon\"\n",
    "print(f\"Is the variant rare and located in an exon? {is_rare_exonic_variant}\")"
   ]
  },
  {
   "cell_type": "code",
   "execution_count": 60,
   "id": "499899f6-f61d-46a5-ba40-155df13262cf",
   "metadata": {},
   "outputs": [
    {
     "name": "stdout",
     "output_type": "stream",
     "text": [
      "Exclude gene (not a DNA repair gene)? True\n"
     ]
    }
   ],
   "source": [
    "# Scenario: Exclude genes that are not involved in DNA repair.\n",
    "gene_function = \"metabolism\"\n",
    "\n",
    "# NOT Operation\n",
    "is_dna_repair_gene = not (gene_function == \"DNA repair\")\n",
    "print(f\"Exclude gene (not a DNA repair gene)? {is_dna_repair_gene}\")"
   ]
  },
  {
   "cell_type": "code",
   "execution_count": 32,
   "id": "4e070302-a4b9-4b8f-a5f4-7c369282dc55",
   "metadata": {},
   "outputs": [
    {
     "name": "stdout",
     "output_type": "stream",
     "text": [
      "Is the sequence valid based on length and GC content? True\n"
     ]
    }
   ],
   "source": [
    "# Scenario: Verify that a sequence is both long enough and within the desired GC content range.\n",
    "sequence_length = 2500\n",
    "gc_content = 0.42\n",
    "\n",
    "min_length = 2000\n",
    "gc_range_min = 0.35\n",
    "gc_range_max = 0.50\n",
    "\n",
    "# AND Operation\n",
    "is_valid_sequence = sequence_length >= min_length and gc_range_min <= gc_content <= gc_range_max\n",
    "print(f\"Is the sequence valid based on length and GC content? {is_valid_sequence}\")"
   ]
  },
  {
   "cell_type": "markdown",
   "id": "2fb36af3-415c-4132-a1a8-4a90fac498cb",
   "metadata": {},
   "source": [
    "# 4. Assignment operators"
   ]
  },
  {
   "cell_type": "code",
   "execution_count": 63,
   "id": "40ac0d82-ffcd-46f4-a9f5-963b5bedf3aa",
   "metadata": {},
   "outputs": [
    {
     "name": "stdout",
     "output_type": "stream",
     "text": [
      "9\n"
     ]
    }
   ],
   "source": [
    "b = 4\n",
    "a = 5\n",
    "\n",
    "\n",
    "b += a\n",
    "\n",
    "print(b)"
   ]
  },
  {
   "cell_type": "code",
   "execution_count": 65,
   "id": "2be33801-dcc3-4da2-8e56-6648c230c521",
   "metadata": {},
   "outputs": [
    {
     "name": "stdout",
     "output_type": "stream",
     "text": [
      "3\n"
     ]
    }
   ],
   "source": [
    "k = 8\n",
    "l = 5\n",
    "\n",
    "k -= l\n",
    "print(k)"
   ]
  },
  {
   "cell_type": "code",
   "execution_count": null,
   "id": "9481b174-a02c-4633-9e84-315ff823efce",
   "metadata": {},
   "outputs": [],
   "source": []
  }
 ],
 "metadata": {
  "kernelspec": {
   "display_name": "Python 3 (ipykernel)",
   "language": "python",
   "name": "python3"
  },
  "language_info": {
   "codemirror_mode": {
    "name": "ipython",
    "version": 3
   },
   "file_extension": ".py",
   "mimetype": "text/x-python",
   "name": "python",
   "nbconvert_exporter": "python",
   "pygments_lexer": "ipython3",
   "version": "3.9.13"
  }
 },
 "nbformat": 4,
 "nbformat_minor": 5
}
