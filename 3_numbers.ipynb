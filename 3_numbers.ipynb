{
 "cells": [
  {
   "cell_type": "markdown",
   "id": "ffc906b1",
   "metadata": {},
   "source": [
    "# Numbers in python\n",
    "Numbers are one of the fundamental data types in Python, and they're used to represent numeric values. Python handles different types of numbers such as integers, floating-point numbers, and complex numbers.\n",
    "\n",
    "\n",
    "## Outline:\n",
    "1. **Numeric Data Types:**\n",
    "\n",
    "- Integers (int): Whole numbers, positive or negative, without decimals.\n",
    "- Floating-Point Numbers (float): Numbers that have a decimal point.\n",
    "- Complex Numbers (complex): Numbers with a real and an imaginary part.\n",
    "2. **Basic Arithmetic Operations:**\n",
    "\n",
    "- Addition (+)\n",
    "- Subtraction (-)\n",
    "- Multiplication (*)\n",
    "- Division (/)\n",
    "- Floor Division (//)\n",
    "- Modulus (%)\n",
    "- Exponentiation (**)\n",
    "3. **Type Conversion:**\n",
    "\n",
    "- Converting between types using int(), float(), and complex() functions.\n",
    "\n",
    "\n",
    "\n",
    "\n",
    "\n",
    "\n",
    "\n",
    "### Where Will This Topic Be Used?\n",
    "- **Data Analysis**\n",
    "- **Measurements**\n",
    "- **Travel**\n",
    "- **Game Development**\n",
    "- **Sports**\n",
    "- **Money**\n",
    "\n",
    "Click [here](https://github.com/ankitCUHP/Python-Basics) to get all notebooks from GitHub repo.\n"
   ]
  },
  {
   "cell_type": "markdown",
   "id": "940fc2ba",
   "metadata": {},
   "source": [
    "## numeric data type"
   ]
  },
  {
   "cell_type": "code",
   "execution_count": 21,
   "id": "a9983101",
   "metadata": {},
   "outputs": [
    {
     "name": "stdout",
     "output_type": "stream",
     "text": [
      "<class 'int'>\n",
      "<class 'float'>\n",
      "<class 'str'>\n",
      "<class 'complex'>\n"
     ]
    }
   ],
   "source": [
    "count = 100\n",
    "distance = 101.25\n",
    "a, b, c = 10, 2, \"ankit\"\n",
    "comp = 5 + 0j\n",
    "\n",
    "print(type(count))\n",
    "print(type(distance))\n",
    "\n",
    "print(type(c))\n",
    "print(type(comp))"
   ]
  },
  {
   "cell_type": "markdown",
   "id": "8e014266",
   "metadata": {},
   "source": [
    "## Operations"
   ]
  },
  {
   "cell_type": "code",
   "execution_count": 31,
   "id": "6408d9c4",
   "metadata": {},
   "outputs": [
    {
     "name": "stdout",
     "output_type": "stream",
     "text": [
      "sum:  12\n",
      "subt: 8\n",
      "multiplication:  20\n",
      "division result:  5.0\n",
      "floor div:  3\n"
     ]
    }
   ],
   "source": [
    "# addition\n",
    "z = a + b\n",
    "print(\"sum: \",z)\n",
    "\n",
    "\n",
    "#subtraction\n",
    "z = a - b\n",
    "print(\"subt:\", z)\n",
    "\n",
    "#multiplication\n",
    "multi_result = a * b\n",
    "print(\"multiplication: \", multi_result)\n",
    "\n",
    "#division\n",
    "div_result = a/b\n",
    "print(\"division result: \", div_result)\n",
    "\n",
    "\n",
    "\n",
    "#floor division\n",
    "floor_result= 10//3\n",
    "print(\"floor div: \",floor_result)"
   ]
  },
  {
   "cell_type": "code",
   "execution_count": 38,
   "id": "acf2fdbf",
   "metadata": {},
   "outputs": [
    {
     "name": "stdout",
     "output_type": "stream",
     "text": [
      "mod result:  0\n",
      "exponential result:  16\n"
     ]
    }
   ],
   "source": [
    "#modulus\n",
    "\n",
    "mod_result = a%b\n",
    "print(\"mod result: \",mod_result)\n",
    "\n",
    "\n",
    "c = 4\n",
    "#exponential\n",
    "exp_result = b ** c\n",
    "print(\"exponential result: \",exp_result)"
   ]
  },
  {
   "cell_type": "markdown",
   "id": "4c435726",
   "metadata": {},
   "source": [
    "## data conversion"
   ]
  },
  {
   "cell_type": "code",
   "execution_count": 40,
   "id": "66dd5bfb",
   "metadata": {},
   "outputs": [
    {
     "name": "stdout",
     "output_type": "stream",
     "text": [
      "10.0\n"
     ]
    }
   ],
   "source": [
    "int_to_float = float(a)\n",
    "print(int_to_float)"
   ]
  },
  {
   "cell_type": "code",
   "execution_count": 41,
   "id": "d5b2c304",
   "metadata": {},
   "outputs": [
    {
     "name": "stdout",
     "output_type": "stream",
     "text": [
      "10\n"
     ]
    }
   ],
   "source": [
    "m = 10.2\n",
    "float_to_int = int(m)\n",
    "print(float_to_int)"
   ]
  },
  {
   "cell_type": "code",
   "execution_count": 42,
   "id": "31634f24",
   "metadata": {},
   "outputs": [
    {
     "name": "stdout",
     "output_type": "stream",
     "text": [
      "(10+0j)\n"
     ]
    }
   ],
   "source": [
    "int_to_comp = complex(a)\n",
    "print(int_to_comp)"
   ]
  },
  {
   "cell_type": "code",
   "execution_count": 44,
   "id": "deeaf680",
   "metadata": {},
   "outputs": [
    {
     "name": "stdout",
     "output_type": "stream",
     "text": [
      "(10.2+0j)\n"
     ]
    }
   ],
   "source": [
    "float_to_comp = complex(m)\n",
    "print(float_to_comp)"
   ]
  },
  {
   "cell_type": "code",
   "execution_count": null,
   "id": "28f9570f",
   "metadata": {},
   "outputs": [],
   "source": []
  }
 ],
 "metadata": {
  "kernelspec": {
   "display_name": "Python 3 (ipykernel)",
   "language": "python",
   "name": "python3"
  },
  "language_info": {
   "codemirror_mode": {
    "name": "ipython",
    "version": 3
   },
   "file_extension": ".py",
   "mimetype": "text/x-python",
   "name": "python",
   "nbconvert_exporter": "python",
   "pygments_lexer": "ipython3",
   "version": "3.9.13"
  }
 },
 "nbformat": 4,
 "nbformat_minor": 5
}
