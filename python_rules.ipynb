{
 "cells": [
  {
   "cell_type": "markdown",
   "id": "67e3f16a",
   "metadata": {},
   "source": [
    "# Rule for python"
   ]
  },
  {
   "cell_type": "code",
   "execution_count": 4,
   "id": "997f5edd",
   "metadata": {},
   "outputs": [
    {
     "name": "stdout",
     "output_type": "stream",
     "text": [
      "1 2\n"
     ]
    }
   ],
   "source": [
    "a = 1\n",
    "A = 2\n",
    "print(a, A)"
   ]
  },
  {
   "cell_type": "code",
   "execution_count": null,
   "id": "4d8ecb11",
   "metadata": {},
   "outputs": [],
   "source": [
    "abc = 1\n",
    "Abc0 = 6\n",
    "abC1 = 5 "
   ]
  },
  {
   "cell_type": "markdown",
   "id": "96b638a7",
   "metadata": {},
   "source": [
    "## Reserved words"
   ]
  },
  {
   "cell_type": "code",
   "execution_count": null,
   "id": "70526510",
   "metadata": {},
   "outputs": [],
   "source": [
    "class import print lambda pass or from with for in"
   ]
  },
  {
   "cell_type": "markdown",
   "id": "6b77062c",
   "metadata": {},
   "source": [
    "# Line and indentation "
   ]
  },
  {
   "cell_type": "code",
   "execution_count": 8,
   "id": "70a3940d",
   "metadata": {},
   "outputs": [
    {
     "name": "stdout",
     "output_type": "stream",
     "text": [
      "1\n"
     ]
    }
   ],
   "source": [
    "# 1 tab == 4 spaces\n",
    "if a == 1:\n",
    "    print(a)\n",
    "else:\n",
    "    print(\"false\")"
   ]
  },
  {
   "cell_type": "markdown",
   "id": "f996748f",
   "metadata": {},
   "source": [
    "# multi line statement"
   ]
  },
  {
   "cell_type": "code",
   "execution_count": 9,
   "id": "c97b8f14",
   "metadata": {},
   "outputs": [],
   "source": [
    "item_1 = 2\n",
    "item_2 = 4\n",
    "item_3 = 2"
   ]
  },
  {
   "cell_type": "code",
   "execution_count": 13,
   "id": "a068e014",
   "metadata": {},
   "outputs": [
    {
     "name": "stdout",
     "output_type": "stream",
     "text": [
      "8\n"
     ]
    }
   ],
   "source": [
    "total = item_1+\\\n",
    "item_2 +\\\n",
    "item_3\n",
    "\n",
    "print(total)"
   ]
  },
  {
   "cell_type": "markdown",
   "id": "ea8f4264",
   "metadata": {},
   "source": [
    "## comments in python"
   ]
  },
  {
   "cell_type": "code",
   "execution_count": null,
   "id": "9112ff4b",
   "metadata": {},
   "outputs": [],
   "source": [
    "# this is the comment\n",
    "# for loop started"
   ]
  },
  {
   "cell_type": "markdown",
   "id": "399b9843",
   "metadata": {},
   "source": [
    "## Quotations in python"
   ]
  },
  {
   "cell_type": "code",
   "execution_count": 21,
   "id": "4a32730c",
   "metadata": {},
   "outputs": [
    {
     "name": "stdout",
     "output_type": "stream",
     "text": [
      "abcdef\n",
      "ghi\n",
      "jkl\n"
     ]
    }
   ],
   "source": [
    "a = '''abcdef\n",
    "ghi\n",
    "jkl'''\n",
    "\n",
    "\n",
    "print(a)"
   ]
  },
  {
   "cell_type": "markdown",
   "id": "d02d49f4",
   "metadata": {},
   "source": [
    "# Blank lines"
   ]
  },
  {
   "cell_type": "code",
   "execution_count": 22,
   "id": "43d803fa",
   "metadata": {},
   "outputs": [
    {
     "name": "stdout",
     "output_type": "stream",
     "text": [
      "1\n",
      "5\n"
     ]
    }
   ],
   "source": [
    "a = 1\n",
    "\n",
    "\n",
    "\n",
    "\n",
    "\n",
    "b = 5\n",
    "print(a)\n",
    "print(b)"
   ]
  },
  {
   "cell_type": "markdown",
   "id": "87125c30",
   "metadata": {},
   "source": [
    "# multiline statement on single line"
   ]
  },
  {
   "cell_type": "code",
   "execution_count": 23,
   "id": "114641fc",
   "metadata": {},
   "outputs": [
    {
     "name": "stdout",
     "output_type": "stream",
     "text": [
      "17\n"
     ]
    }
   ],
   "source": [
    "c = 8; d = 9; e = c+d; print(e)"
   ]
  },
  {
   "cell_type": "markdown",
   "id": "8763997f",
   "metadata": {},
   "source": [
    "# waiting for user input"
   ]
  },
  {
   "cell_type": "code",
   "execution_count": 25,
   "id": "285f720d",
   "metadata": {},
   "outputs": [
    {
     "name": "stdout",
     "output_type": "stream",
     "text": [
      "\n",
      " press enter to the value of e\n",
      "17\n"
     ]
    }
   ],
   "source": [
    "input(\"\\n press enter to the value of e\")\n",
    "print(e)"
   ]
  },
  {
   "cell_type": "code",
   "execution_count": null,
   "id": "d894b460",
   "metadata": {},
   "outputs": [],
   "source": []
  }
 ],
 "metadata": {
  "kernelspec": {
   "display_name": "Python 3 (ipykernel)",
   "language": "python",
   "name": "python3"
  },
  "language_info": {
   "codemirror_mode": {
    "name": "ipython",
    "version": 3
   },
   "file_extension": ".py",
   "mimetype": "text/x-python",
   "name": "python",
   "nbconvert_exporter": "python",
   "pygments_lexer": "ipython3",
   "version": "3.9.13"
  }
 },
 "nbformat": 4,
 "nbformat_minor": 5
}
