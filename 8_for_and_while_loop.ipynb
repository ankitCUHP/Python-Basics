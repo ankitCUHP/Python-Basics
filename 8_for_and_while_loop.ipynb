{
 "cells": [
  {
   "cell_type": "markdown",
   "id": "a5586ec6",
   "metadata": {},
   "source": [
    "# Loops in Python\n",
    "\n",
    "Loops in Python allow you to execute a block of code multiple times, which is useful for tasks that involve repetitive actions. Python supports two types of loops: for loops and while loops.\n",
    "\n",
    "### 1. for Loop: \n",
    "The for loop is used to iterate over a sequence (like a list, tuple, dictionary, string, or range). It repeats the block of code for each element in the sequence.\n",
    "\n",
    "### 2. while Loop:\n",
    "The while loop continues to execute as long as the given condition is True. It's useful when the number of iterations isn't known in advance.\n",
    "\n",
    "### 3. break and continue Statements:\n",
    "- break: Exits the loop prematurely.\n",
    "- continue: Skips the rest of the code inside the loop for the current iteration and moves to the next iteration.\n",
    "\n",
    "### 4. Looping with Dictionaries:\n",
    "You can loop over the keys, values, or key-value pairs of a dictionary.\n",
    "\n",
    "### 5. Nested Loops:\n",
    "You can have loops inside loops (nested loops)."
   ]
  },
  {
   "cell_type": "code",
   "execution_count": 8,
   "id": "3f2725c1",
   "metadata": {},
   "outputs": [
    {
     "name": "stdout",
     "output_type": "stream",
     "text": [
      "1\n",
      "2\n",
      "3\n",
      "4\n",
      "5\n"
     ]
    }
   ],
   "source": [
    "#printing numbers from 1 to 5\n",
    "for i in range(1,6):\n",
    "    print(i)"
   ]
  },
  {
   "cell_type": "code",
   "execution_count": 9,
   "id": "d8bfeeb2",
   "metadata": {},
   "outputs": [
    {
     "name": "stdout",
     "output_type": "stream",
     "text": [
      "BRC1\n",
      "TPS4\n",
      "FGF\n",
      "MYC\n"
     ]
    }
   ],
   "source": [
    "# iterating over a list of genes\n",
    "genes = ['BRC1','TPS4','FGF','MYC']\n",
    "\n",
    "for gene in genes:\n",
    "    print(gene)"
   ]
  },
  {
   "cell_type": "code",
   "execution_count": 11,
   "id": "1739f2dc",
   "metadata": {},
   "outputs": [
    {
     "name": "stdout",
     "output_type": "stream",
     "text": [
      "count: 5\n",
      "count: 4\n",
      "count: 3\n",
      "count: 2\n",
      "count: 1\n"
     ]
    }
   ],
   "source": [
    "#while condition\n",
    "#counting down from a number\n",
    "count = 5\n",
    "while count > 0:\n",
    "    print(\"count:\",count)\n",
    "    count -= 1"
   ]
  },
  {
   "cell_type": "code",
   "execution_count": 12,
   "id": "e529d064",
   "metadata": {},
   "outputs": [
    {
     "name": "stdout",
     "output_type": "stream",
     "text": [
      "scanning gene: BRC1\n",
      "scanning gene: TPS4\n",
      "gene found: FGF\n"
     ]
    }
   ],
   "source": [
    "#break statement\n",
    "#stop printing when gene-X is found\n",
    "for gene in genes:\n",
    "    if gene == 'FGF':\n",
    "        print(\"gene found:\",gene)\n",
    "        break\n",
    "    print(\"scanning gene:\",gene)"
   ]
  },
  {
   "cell_type": "code",
   "execution_count": 13,
   "id": "d2a4a2ca",
   "metadata": {},
   "outputs": [
    {
     "name": "stdout",
     "output_type": "stream",
     "text": [
      "Gene BRC1\n",
      "Gene FGF\n",
      "Gene MYC\n"
     ]
    }
   ],
   "source": [
    "#continue statement\n",
    "#skip printing the gene function\n",
    "#genes = ['BRC1','TPS4','FGF','MYC']\n",
    "\n",
    "for gene in genes:\n",
    "    if gene == 'TPS4':\n",
    "        continue\n",
    "    print(\"Gene\",gene)"
   ]
  },
  {
   "cell_type": "code",
   "execution_count": 14,
   "id": "3ec399a3",
   "metadata": {},
   "outputs": [
    {
     "name": "stdout",
     "output_type": "stream",
     "text": [
      "BRC1: DNA repair\n",
      "TPS4: Tumor supressor\n",
      "EGFR: Cell signaling\n"
     ]
    }
   ],
   "source": [
    "#looping over a dictionary of gene function\n",
    "gene_info = {'BRC1':'DNA repair',\n",
    "            'TPS4': 'Tumor supressor',\n",
    "            'EGFR': 'Cell signaling'}\n",
    "\n",
    "\n",
    "for gene, function in gene_info.items():\n",
    "    print(f'{gene}: {function}')"
   ]
  },
  {
   "cell_type": "code",
   "execution_count": 15,
   "id": "3793d5cf",
   "metadata": {},
   "outputs": [
    {
     "name": "stdout",
     "output_type": "stream",
     "text": [
      "pair: BRCA1 and EGFR\n",
      "pair: BRCA1 and MYC\n",
      "pair: TPS4 and EGFR\n",
      "pair: TPS4 and MYC\n"
     ]
    }
   ],
   "source": [
    "#nested loop\n",
    "gene1 = ['BRCA1','TPS4']\n",
    "gene2 = ['EGFR','MYC']\n",
    "\n",
    "for g1 in gene1:\n",
    "    for g2 in gene2:\n",
    "        print(f'pair: {g1} and {g2}')"
   ]
  },
  {
   "cell_type": "markdown",
   "id": "9fff473c",
   "metadata": {},
   "source": [
    "## Summary:\n",
    "- for loop: Used for iterating over sequences (lists, tuples, strings, etc.).\n",
    "- while loop: Repeats as long as a condition is true.\n",
    "- break: Exits the loop entirely.\n",
    "- continue: Skips the current iteration and moves to the next one.\n",
    "- Nested loops: Useful for working with multidimensional data or combinations.\n",
    "\n",
    "### Don't forget to like, comment, and subscribe @Biocreator for more Python tutorials! 👍"
   ]
  }
 ],
 "metadata": {
  "kernelspec": {
   "display_name": "Python 3 (ipykernel)",
   "language": "python",
   "name": "python3"
  },
  "language_info": {
   "codemirror_mode": {
    "name": "ipython",
    "version": 3
   },
   "file_extension": ".py",
   "mimetype": "text/x-python",
   "name": "python",
   "nbconvert_exporter": "python",
   "pygments_lexer": "ipython3",
   "version": "3.9.13"
  }
 },
 "nbformat": 4,
 "nbformat_minor": 5
}
