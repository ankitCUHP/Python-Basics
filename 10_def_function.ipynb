{
 "cells": [
  {
   "cell_type": "markdown",
   "id": "5c56ecc7-084e-4be1-ade9-d44edb83405c",
   "metadata": {
    "tags": []
   },
   "source": [
    "# Tutorial on the 'def' Function in Python\n",
    "In Python, the def keyword is used to define a function. Functions allow you to encapsulate code that performs a specific task, making your code reusable, modular, and easier to understand.\n",
    "\n",
    "\n",
    "### 1. Basic Structure of a Function\n",
    "- function_name: The name you give to the function.\n",
    "- parameters: Inputs that the function can take (optional).\n",
    "- return: Outputs a value from the function (optional).\n",
    "\n",
    "### 2. Example of a Simple Function\n",
    "- add_numbers(a, b): A function that takes two parameters, a and b.\n",
    "- return result: The function returns the sum of a and b.\n",
    "\n",
    "### 3. Function with No Parameters\n",
    "- greet(): A function that doesn’t take any parameters.\n",
    "- The function simply prints a message when called.\n",
    "\n",
    "### 4. Function with Default Parameters\n",
    "- name=\"Guest\": The name parameter has a default value of \"Guest\".\n",
    "- If no argument is provided, the function uses the default value.\n",
    "\n",
    "### 5. Returning Multiple Values\n",
    "- get_min_max(numbers): Returns both the minimum and maximum values from the list.\n",
    "\n",
    "### 6. Bioinformatics Context\n",
    "- Functions can perform operations like calculating GC content."
   ]
  },
  {
   "cell_type": "code",
   "execution_count": 23,
   "id": "519b161d-c379-4ad9-a062-a8e965bcf0da",
   "metadata": {},
   "outputs": [],
   "source": [
    "def add_numbers(a, b):\n",
    "    result = a + b\n",
    "    return result"
   ]
  },
  {
   "cell_type": "code",
   "execution_count": 26,
   "id": "25ccc00c-0a76-450a-89ef-2916bbe1267c",
   "metadata": {},
   "outputs": [
    {
     "data": {
      "text/plain": [
       "140"
      ]
     },
     "execution_count": 26,
     "metadata": {},
     "output_type": "execute_result"
    }
   ],
   "source": [
    "add_numbers(50,90)"
   ]
  },
  {
   "cell_type": "code",
   "execution_count": 27,
   "id": "9ea932ee-69a6-4a82-87ba-5fd6c7cc68a0",
   "metadata": {},
   "outputs": [],
   "source": [
    "def greet():\n",
    "    print(\"Hello, welcome to BioCreator!\")"
   ]
  },
  {
   "cell_type": "code",
   "execution_count": 28,
   "id": "522aeb3e-8fad-4f8e-8f2d-f2ff95afbea9",
   "metadata": {},
   "outputs": [
    {
     "name": "stdout",
     "output_type": "stream",
     "text": [
      "Hello, welcome to BioCreator!\n"
     ]
    }
   ],
   "source": [
    "greet()"
   ]
  },
  {
   "cell_type": "code",
   "execution_count": 36,
   "id": "5d99f792-b667-4508-a554-0ea251c0ce75",
   "metadata": {},
   "outputs": [],
   "source": [
    "def greet(name='Akshay',age=22):\n",
    "    print(f'Hello, {name} {age}!')"
   ]
  },
  {
   "cell_type": "code",
   "execution_count": 38,
   "id": "a5b720b8-cffa-4396-b09b-1dbf33030944",
   "metadata": {},
   "outputs": [
    {
     "name": "stdout",
     "output_type": "stream",
     "text": [
      "Hello, abc 20!\n"
     ]
    }
   ],
   "source": [
    "greet(name='abc',age=20)"
   ]
  },
  {
   "cell_type": "code",
   "execution_count": 39,
   "id": "9853075f-9fba-4be4-9d1d-bcf4baf98a9b",
   "metadata": {},
   "outputs": [],
   "source": [
    "def get_min_max(numbers):\n",
    "    return min(numbers), max(numbers)"
   ]
  },
  {
   "cell_type": "code",
   "execution_count": 40,
   "id": "e30e2143-5d2b-4585-949f-037a688c9d97",
   "metadata": {},
   "outputs": [
    {
     "data": {
      "text/plain": [
       "(6, 99)"
      ]
     },
     "execution_count": 40,
     "metadata": {},
     "output_type": "execute_result"
    }
   ],
   "source": [
    "lst = [15,6,33,68,45,99,85,26,36,45]\n",
    "\n",
    "get_min_max(lst)"
   ]
  },
  {
   "cell_type": "code",
   "execution_count": 45,
   "id": "b4543e3c-4fc0-44c5-92d4-33ff8d1c7e78",
   "metadata": {},
   "outputs": [
    {
     "name": "stdout",
     "output_type": "stream",
     "text": [
      "GC Content: 50.0%\n",
      "gc content of dna1: 45.714285714285715\n"
     ]
    }
   ],
   "source": [
    "def calculate_gc_content(sequence):\n",
    "    gc_count = sequence.count('G') + sequence.count('C')\n",
    "    total_bases = len(sequence)\n",
    "    gc_content = (gc_count/total_bases) * 100\n",
    "    return gc_content\n",
    "\n",
    "\n",
    "dna = 'GCTAGTAG'\n",
    "GC_C = calculate_gc_content(dna)\n",
    "print(f'GC Content: {GC_C}%')\n",
    "\n",
    "\n",
    "\n",
    "dna1 = 'ACTAGTCGAAATCAGCATCGTACGTAGCATCGTAG'\n",
    "gcc = calculate_gc_content(dna1)\n",
    "print(f'gc content of dna1: {gcc}')"
   ]
  },
  {
   "cell_type": "code",
   "execution_count": null,
   "id": "6f88ccc9-d5be-490f-8f1c-60c43c27b54c",
   "metadata": {},
   "outputs": [],
   "source": []
  },
  {
   "cell_type": "markdown",
   "id": "2c7e5aa9-51fa-4c1f-b881-6e3234b09302",
   "metadata": {},
   "source": [
    "## Summary\n",
    "- Functions: Reusable blocks of code that perform specific tasks.\n",
    "- def Keyword: Used to define a function.\n",
    "- Parameters: Input values that functions can take.\n",
    "- Return Statement: Functions can return results for further use.\n",
    "- Default Parameters: Allows functions to be called with or without certain arguments.\n",
    "- Multiple Returns: Functions can return multiple values as a tuple."
   ]
  },
  {
   "cell_type": "code",
   "execution_count": null,
   "id": "cdfbfc71-6bf1-4f13-9ec0-ff80f5a75835",
   "metadata": {},
   "outputs": [],
   "source": []
  }
 ],
 "metadata": {
  "kernelspec": {
   "display_name": "Python 3 (ipykernel)",
   "language": "python",
   "name": "python3"
  },
  "language_info": {
   "codemirror_mode": {
    "name": "ipython",
    "version": 3
   },
   "file_extension": ".py",
   "mimetype": "text/x-python",
   "name": "python",
   "nbconvert_exporter": "python",
   "pygments_lexer": "ipython3",
   "version": "3.9.13"
  }
 },
 "nbformat": 4,
 "nbformat_minor": 5
}
