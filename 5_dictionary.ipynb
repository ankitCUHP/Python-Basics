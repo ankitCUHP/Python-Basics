{
 "cells": [
  {
   "cell_type": "markdown",
   "id": "5ae9936d-a9f8-4415-90e6-4ea1491e2312",
   "metadata": {},
   "source": [
    "## Outline:\n",
    "### 1.What is a Dictionary?\n",
    "- A dictionary is a collection of key-value pairs.\n",
    "- Keys are unique, and each key maps to a value.\n",
    "- Dictionaries are unordered, changeable (mutable), and do not allow duplicate keys.\n",
    "- Defined using curly braces {}.\n",
    "\n",
    "### 2.Basic Operations:\n",
    "- Creating a Dictionary: How to define a dictionary.\n",
    "- Accessing Values: Accessing values using keys.\n",
    "- Adding and Updating Items: How to add new key-value pairs and update existing ones.\n",
    "- Removing Items: How to remove key-value pairs.\n",
    "- Looping through a Dictionary: Iterating over keys and values.\n",
    "\n",
    "### 3.Common Methods:\n",
    "- get(): Retrieve a value for a given key.\n",
    "- keys(): Return a list of all keys.\n",
    "- values(): Return a list of all values.\n",
    "- items(): Return a list of all key-value pairs as tuples."
   ]
  },
  {
   "cell_type": "code",
   "execution_count": 2,
   "id": "2da25888-4076-4558-a4a0-213206910274",
   "metadata": {
    "scrolled": true
   },
   "outputs": [
    {
     "name": "stdout",
     "output_type": "stream",
     "text": [
      "gene info dictionary:  {'gene_name': 'BRCA1', 'organism': 'Homo sapiens', 'sequence_len': '20120', 'chromosome': '17', 'gene_id': '656', 'function': 'DNA repair'}\n"
     ]
    }
   ],
   "source": [
    "# creating a dictionary\n",
    "gene_info = {'gene_name': 'BRCA1',\\\n",
    "            'organism': 'Homo sapiens',\\\n",
    "            'sequence_len': '20120',\\\n",
    "            'chromosome': '17',\\\n",
    "            'gene_id': '656',\\\n",
    "            'function': 'DNA repair'}\n",
    "\n",
    "print(\"gene info dictionary: \",gene_info)"
   ]
  },
  {
   "cell_type": "code",
   "execution_count": 6,
   "id": "458a9686-6a7d-42c0-bac3-6ede2a6d5825",
   "metadata": {},
   "outputs": [
    {
     "name": "stdout",
     "output_type": "stream",
     "text": [
      "BRCA1\n",
      "Homo sapiens\n"
     ]
    }
   ],
   "source": [
    "#Accessing values in a dictionary\n",
    "print(gene_info['gene_name'])\n",
    "print(gene_info['organism'])"
   ]
  },
  {
   "cell_type": "code",
   "execution_count": 8,
   "id": "18d87c7f-046e-428c-b913-7e049ce51371",
   "metadata": {},
   "outputs": [
    {
     "name": "stdout",
     "output_type": "stream",
     "text": [
      "Updated dict:  {'gene_name': 'BRCA1', 'organism': 'Homo sapiens', 'sequence_len': '20120', 'chromosome': '17', 'gene_id': '656', 'function': 'DNA repair', 'protein_product': 'Breast cancer type 1 protein'}\n"
     ]
    }
   ],
   "source": [
    "#adding a new key-value pair\n",
    "gene_info['protein_product'] = 'Breast cancer type 1 protein'\n",
    "print(\"Updated dict: \",gene_info)"
   ]
  },
  {
   "cell_type": "code",
   "execution_count": 9,
   "id": "1b9d1d65",
   "metadata": {},
   "outputs": [
    {
     "name": "stdout",
     "output_type": "stream",
     "text": [
      "{'gene_name': 'BRCA1', 'organism': 'Homo sapiens', 'sequence_len': '20140', 'chromosome': '17', 'gene_id': '656', 'function': 'DNA repair', 'protein_product': 'Breast cancer type 1 protein'}\n"
     ]
    }
   ],
   "source": [
    "#updating an existing key-value pair\n",
    "gene_info['sequence_len'] = '20140'\n",
    "print(gene_info)"
   ]
  },
  {
   "cell_type": "code",
   "execution_count": 10,
   "id": "613616bb",
   "metadata": {},
   "outputs": [
    {
     "name": "stdout",
     "output_type": "stream",
     "text": [
      "{'gene_name': 'BRCA1', 'organism': 'Homo sapiens', 'sequence_len': '20140', 'gene_id': '656', 'function': 'DNA repair', 'protein_product': 'Breast cancer type 1 protein'}\n"
     ]
    }
   ],
   "source": [
    "#removing a key-value pair\n",
    "del gene_info['chromosome']\n",
    "print(gene_info)"
   ]
  },
  {
   "cell_type": "code",
   "execution_count": 11,
   "id": "0915d002",
   "metadata": {},
   "outputs": [
    {
     "name": "stdout",
     "output_type": "stream",
     "text": [
      "656\n"
     ]
    }
   ],
   "source": [
    "print(gene_info.get('gene_id'))"
   ]
  },
  {
   "cell_type": "code",
   "execution_count": 13,
   "id": "dee000a0",
   "metadata": {},
   "outputs": [
    {
     "name": "stdout",
     "output_type": "stream",
     "text": [
      "gene_name BRCA1\n",
      "organism Homo sapiens\n",
      "sequence_len 20140\n",
      "gene_id 656\n",
      "function DNA repair\n",
      "protein_product Breast cancer type 1 protein\n"
     ]
    }
   ],
   "source": [
    "#looping through a dict\n",
    "for key, value in gene_info.items():\n",
    "    print(key, value)"
   ]
  },
  {
   "cell_type": "code",
   "execution_count": 14,
   "id": "4f980793",
   "metadata": {},
   "outputs": [
    {
     "name": "stdout",
     "output_type": "stream",
     "text": [
      "dict_keys(['gene_name', 'organism', 'sequence_len', 'gene_id', 'function', 'protein_product'])\n"
     ]
    }
   ],
   "source": [
    "print(gene_info.keys())"
   ]
  },
  {
   "cell_type": "code",
   "execution_count": 15,
   "id": "480bda28",
   "metadata": {},
   "outputs": [
    {
     "name": "stdout",
     "output_type": "stream",
     "text": [
      "dict_values(['BRCA1', 'Homo sapiens', '20140', '656', 'DNA repair', 'Breast cancer type 1 protein'])\n"
     ]
    }
   ],
   "source": [
    "print(gene_info.values())"
   ]
  },
  {
   "cell_type": "code",
   "execution_count": null,
   "id": "839c73fc",
   "metadata": {},
   "outputs": [],
   "source": []
  }
 ],
 "metadata": {
  "kernelspec": {
   "display_name": "Python 3 (ipykernel)",
   "language": "python",
   "name": "python3"
  },
  "language_info": {
   "codemirror_mode": {
    "name": "ipython",
    "version": 3
   },
   "file_extension": ".py",
   "mimetype": "text/x-python",
   "name": "python",
   "nbconvert_exporter": "python",
   "pygments_lexer": "ipython3",
   "version": "3.9.13"
  }
 },
 "nbformat": 4,
 "nbformat_minor": 5
}
